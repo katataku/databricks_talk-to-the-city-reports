{
 "cells": [
  {
   "cell_type": "code",
   "execution_count": 0,
   "metadata": {
    "application/vnd.databricks.v1+cell": {
     "cellMetadata": {
      "byteLimit": 2048000,
      "rowLimit": 10000
     },
     "inputWidgets": {},
     "nuid": "a503f0ec-1e11-48cc-a430-f71a477e375c",
     "showTitle": false,
     "tableResultSettingsMap": {},
     "title": ""
    }
   },
   "outputs": [],
   "source": [
    "config_vars = {\n",
    "    \"endpoint\" : dbutils.secrets.get(scope = \"bootcamp_secrets\", key = \"AZURE_INFERENCE_ENDPOINT\"),\n",
    "    \"credential\": dbutils.secrets.get(scope = \"bootcamp_secrets\", key = \"AZURE_INFERENCE_CREDENTIAL\")\n",
    "}"
   ]
  },
  {
   "cell_type": "code",
   "execution_count": 0,
   "metadata": {
    "application/vnd.databricks.v1+cell": {
     "cellMetadata": {
      "byteLimit": 2048000,
      "rowLimit": 10000
     },
     "inputWidgets": {},
     "nuid": "0ef58e82-0cb8-4190-9bb4-c190c5a9fc3f",
     "showTitle": false,
     "tableResultSettingsMap": {},
     "title": ""
    }
   },
   "outputs": [],
   "source": [
    "import os\n",
    "for key, value in config_vars.items():\n",
    "    dbutils.widgets.text(key, value)\n",
    "    os.environ[key] = value"
   ]
  },
  {
   "cell_type": "code",
   "execution_count": 0,
   "metadata": {
    "application/vnd.databricks.v1+cell": {
     "cellMetadata": {
      "byteLimit": 2048000,
      "rowLimit": 10000
     },
     "inputWidgets": {},
     "nuid": "e1094c0a-bd33-46bf-82a3-566eaccc587b",
     "showTitle": false,
     "tableResultSettingsMap": {},
     "title": ""
    }
   },
   "outputs": [],
   "source": [
    "# dbutils.fs.mkdirs(\"/dbfs/mnt/dbacademy-users/junweiwu.me@gmail.com/data-engineering-with-databricks/talk_to_the_city/storage/downloads/\")\n"
   ]
  },
  {
   "cell_type": "code",
   "execution_count": 0,
   "metadata": {
    "application/vnd.databricks.v1+cell": {
     "cellMetadata": {
      "byteLimit": 2048000,
      "rowLimit": 10000
     },
     "inputWidgets": {},
     "nuid": "b28f971a-d839-4740-a9fe-8d05e58fd534",
     "showTitle": false,
     "tableResultSettingsMap": {},
     "title": ""
    }
   },
   "outputs": [],
   "source": [
    "# dbutils.fs.ls(\"/dbfs/mnt/dbacademy-users/junweiwu.me@gmail.com/data-engineering-with-databricks/talk_to_the_city/storage\")\n"
   ]
  },
  {
   "cell_type": "code",
   "execution_count": 0,
   "metadata": {
    "application/vnd.databricks.v1+cell": {
     "cellMetadata": {
      "byteLimit": 2048000,
      "rowLimit": 10000
     },
     "inputWidgets": {},
     "nuid": "6e30f448-53b3-481c-9691-693151da6eb5",
     "showTitle": false,
     "tableResultSettingsMap": {},
     "title": ""
    }
   },
   "outputs": [],
   "source": [
    "# %python\n",
    "# try:\n",
    "#     %run /Workspace/Users/junweiwu.me@gmail.com/databricks_talk-to-the-city-reports/scatter/pipeline/steps/ingestion.py\n",
    "# except Exception as e:\n",
    "#     print(f\"Error: {e}\")"
   ]
  },
  {
   "cell_type": "code",
   "execution_count": 0,
   "metadata": {
    "application/vnd.databricks.v1+cell": {
     "cellMetadata": {
      "byteLimit": 2048000,
      "rowLimit": 10000
     },
     "inputWidgets": {},
     "nuid": "25214528-624b-4ade-a361-2ef8c8003680",
     "showTitle": false,
     "tableResultSettingsMap": {},
     "title": ""
    }
   },
   "outputs": [],
   "source": [
    "%cd /Workspace/Users/junweiwu.me@gmail.com/databricks_talk-to-the-city-reports/scatter/pipeline"
   ]
  },
  {
   "cell_type": "code",
   "execution_count": 0,
   "metadata": {
    "application/vnd.databricks.v1+cell": {
     "cellMetadata": {
      "byteLimit": 2048000,
      "rowLimit": 10000
     },
     "inputWidgets": {},
     "nuid": "6a457271-e7f0-458f-abcc-292c0f918661",
     "showTitle": false,
     "tableResultSettingsMap": {},
     "title": ""
    }
   },
   "outputs": [],
   "source": [
    "try:\n",
    "    result = dbutils.notebook.run(\"./ingestion\", timeout_seconds=3600)\n",
    "    display(result)\n",
    "except Exception as e:\n",
    "    print(f\"Error: {e}\")"
   ]
  },
  {
   "cell_type": "code",
   "execution_count": 0,
   "metadata": {
    "application/vnd.databricks.v1+cell": {
     "cellMetadata": {
      "byteLimit": 2048000,
      "rowLimit": 10000
     },
     "inputWidgets": {},
     "nuid": "971ee133-8ad3-4c4a-b6d5-769fc70662b8",
     "showTitle": false,
     "tableResultSettingsMap": {},
     "title": ""
    }
   },
   "outputs": [],
   "source": [
    "import nltk\n",
    "nltk.download('stopwords')"
   ]
  },
  {
   "cell_type": "code",
   "execution_count": 0,
   "metadata": {
    "application/vnd.databricks.v1+cell": {
     "cellMetadata": {
      "byteLimit": 2048000,
      "rowLimit": 10000
     },
     "inputWidgets": {},
     "nuid": "f86a5f5f-1271-42b6-9fc3-49f209ae89ae",
     "showTitle": false,
     "tableResultSettingsMap": {},
     "title": ""
    }
   },
   "outputs": [],
   "source": [
    "import pandas as pd\n",
    "df = pd.read_csv(\"inputs/yahoo-news-comment.csv\")"
   ]
  },
  {
   "cell_type": "code",
   "execution_count": 0,
   "metadata": {
    "application/vnd.databricks.v1+cell": {
     "cellMetadata": {
      "byteLimit": 2048000,
      "rowLimit": 10000
     },
     "inputWidgets": {},
     "nuid": "67c9346b-06c4-4e09-b3f7-01d6ad029b79",
     "showTitle": false,
     "tableResultSettingsMap": {},
     "title": ""
    }
   },
   "outputs": [],
   "source": [
    "df.head()"
   ]
  },
  {
   "cell_type": "code",
   "execution_count": 0,
   "metadata": {
    "application/vnd.databricks.v1+cell": {
     "cellMetadata": {
      "byteLimit": 2048000,
      "rowLimit": 10000
     },
     "inputWidgets": {},
     "nuid": "8f7a39ce-5602-4c84-bc29-6932c2488b1e",
     "showTitle": false,
     "tableResultSettingsMap": {},
     "title": ""
    }
   },
   "outputs": [],
   "source": [
    "# !python main.py configs/yahoo-news-comment.json\n",
    "!python main.py configs/yahoo-news-comment.json\n"
   ]
  },
  {
   "cell_type": "code",
   "execution_count": 0,
   "metadata": {
    "application/vnd.databricks.v1+cell": {
     "cellMetadata": {},
     "inputWidgets": {},
     "nuid": "3c861677-fb7b-4180-bed8-ed0b3eadacbd",
     "showTitle": false,
     "tableResultSettingsMap": {},
     "title": ""
    }
   },
   "outputs": [],
   "source": []
  }
 ],
 "metadata": {
  "application/vnd.databricks.v1+notebook": {
   "computePreferences": null,
   "dashboards": [],
   "environmentMetadata": {
    "base_environment": "",
    "environment_version": "2"
   },
   "language": "python",
   "notebookMetadata": {
    "pythonIndentUnit": 4
   },
   "notebookName": "create-reports",
   "widgets": {
    "configs": {
     "currentValue": "/Workspace/Users/junweiwu.me@gmail.com/databricks_talk-to-the-city-reports/scatter/pipeline/configs/ai01.json",
     "nuid": "38b4def2-6bb0-44fe-a6cb-8ff4b8732139",
     "typedWidgetInfo": {
      "autoCreated": false,
      "defaultValue": "/Workspace/Users/junweiwu.me@gmail.com/databricks_talk-to-the-city-reports/scatter/pipeline/configs/example-polis.json",
      "label": null,
      "name": "configs",
      "options": {
       "widgetDisplayType": "Text",
       "validationRegex": null
      },
      "parameterDataType": "String"
     },
     "widgetInfo": {
      "widgetType": "text",
      "defaultValue": "/Workspace/Users/junweiwu.me@gmail.com/databricks_talk-to-the-city-reports/scatter/pipeline/configs/example-polis.json",
      "label": null,
      "name": "configs",
      "options": {
       "widgetType": "text",
       "autoCreated": null,
       "validationRegex": null
      }
     }
    },
    "credential": {
     "currentValue": "74893a5bd53d4bdbabe555d5bd3bb544",
     "nuid": "ae9b5ffe-808a-455a-be7a-56cfe663471f",
     "typedWidgetInfo": {
      "autoCreated": false,
      "defaultValue": "74893a5bd53d4bdbabe555d5bd3bb544",
      "label": null,
      "name": "credential",
      "options": {
       "widgetDisplayType": "Text",
       "validationRegex": null
      },
      "parameterDataType": "String"
     },
     "widgetInfo": {
      "widgetType": "text",
      "defaultValue": "74893a5bd53d4bdbabe555d5bd3bb544",
      "label": null,
      "name": "credential",
      "options": {
       "widgetType": "text",
       "autoCreated": null,
       "validationRegex": null
      }
     }
    },
    "endpoint": {
     "currentValue": "https://lakehouseaais00666484449.openai.azure.com",
     "nuid": "7733d6e5-a09a-4f83-8485-778c020c69d5",
     "typedWidgetInfo": {
      "autoCreated": false,
      "defaultValue": "https://lakehouseaais00666484449.openai.azure.com",
      "label": null,
      "name": "endpoint",
      "options": {
       "widgetDisplayType": "Text",
       "validationRegex": null
      },
      "parameterDataType": "String"
     },
     "widgetInfo": {
      "widgetType": "text",
      "defaultValue": "https://lakehouseaais00666484449.openai.azure.com",
      "label": null,
      "name": "endpoint",
      "options": {
       "widgetType": "text",
       "autoCreated": null,
       "validationRegex": null
      }
     }
    },
    "mainfile": {
     "currentValue": "/Workspace/Users/junweiwu.me@gmail.com/databricks_talk-to-the-city-reports/scatter/pipeline/main.py",
     "nuid": "5b87e4b0-842a-41ec-8026-49b1dfe7d0f3",
     "typedWidgetInfo": {
      "autoCreated": false,
      "defaultValue": "/Workspace/Users/junweiwu.me@gmail.com/databricks_talk-to-the-city-reports/scatter/pipeline/main.py",
      "label": null,
      "name": "mainfile",
      "options": {
       "widgetDisplayType": "Text",
       "validationRegex": null
      },
      "parameterDataType": "String"
     },
     "widgetInfo": {
      "widgetType": "text",
      "defaultValue": "/Workspace/Users/junweiwu.me@gmail.com/databricks_talk-to-the-city-reports/scatter/pipeline/main.py",
      "label": null,
      "name": "mainfile",
      "options": {
       "widgetType": "text",
       "autoCreated": null,
       "validationRegex": null
      }
     }
    },
    "news_url": {
     "currentValue": "https://news.yahoo.co.jp/articles/425744badd8aafa1db8dbb047d09f59b4360c968/comments",
     "nuid": "b975616a-6d4b-4cb0-a71f-0babd83e51d8",
     "typedWidgetInfo": {
      "autoCreated": false,
      "defaultValue": "https://news.yahoo.co.jp/articles/425744badd8aafa1db8dbb047d09f59b4360c968/comments",
      "label": null,
      "name": "news_url",
      "options": {
       "widgetDisplayType": "Text",
       "validationRegex": null
      },
      "parameterDataType": "String"
     },
     "widgetInfo": {
      "widgetType": "text",
      "defaultValue": "https://news.yahoo.co.jp/articles/425744badd8aafa1db8dbb047d09f59b4360c968/comments",
      "label": null,
      "name": "news_url",
      "options": {
       "widgetType": "text",
       "autoCreated": null,
       "validationRegex": null
      }
     }
    },
    "store_path": {
     "currentValue": "dbfs:/mnt/dbacademy-users/junweiwu.me@gmail.com/data-engineering-with-databricks/talk_to_the_city/storage",
     "nuid": "7acc858e-ea85-4881-9ab9-0472d299954f",
     "typedWidgetInfo": {
      "autoCreated": false,
      "defaultValue": "/Workspace/Users/junweiwu.me@gmail.com/databricks_talk-to-the-city-reports/scatter/pipeline/inputs",
      "label": null,
      "name": "store_path",
      "options": {
       "widgetDisplayType": "Text",
       "validationRegex": null
      },
      "parameterDataType": "String"
     },
     "widgetInfo": {
      "widgetType": "text",
      "defaultValue": "/Workspace/Users/junweiwu.me@gmail.com/databricks_talk-to-the-city-reports/scatter/pipeline/inputs",
      "label": null,
      "name": "store_path",
      "options": {
       "widgetType": "text",
       "autoCreated": null,
       "validationRegex": null
      }
     }
    }
   }
  },
  "language_info": {
   "name": "python"
  }
 },
 "nbformat": 4,
 "nbformat_minor": 0
}
